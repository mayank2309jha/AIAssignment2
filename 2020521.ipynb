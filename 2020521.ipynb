{
 "cells": [
  {
   "cell_type": "code",
   "execution_count": 1,
   "id": "9b67e879",
   "metadata": {},
   "outputs": [],
   "source": [
    "import pandas as pd\n",
    "import numpy as np\n",
    "\n",
    "data = pd.read_csv(\"Road_Distance.csv\")\n",
    "data.replace(\"-\", 0, inplace=True)\n",
    "\n",
    "# data.head(5)"
   ]
  },
  {
   "cell_type": "code",
   "execution_count": 2,
   "id": "7ba2ad3b",
   "metadata": {},
   "outputs": [],
   "source": [
    "cities = set()\n",
    "array = data.columns\n",
    "for i in range(1,len(array)):\n",
    "    cities.add(array[i])\n",
    "    \n",
    "table = data.values\n",
    "for i in range(0,len(table)):\n",
    "    cities.add(table[i][0])\n",
    "\n",
    "# print(cities)"
   ]
  },
  {
   "cell_type": "code",
   "execution_count": 3,
   "id": "7fb81b58",
   "metadata": {},
   "outputs": [],
   "source": [
    "# Initialize an empty graph dictionary\n",
    "graph = {}\n",
    "\n",
    "# Add city names to the graph dictionary\n",
    "for city in cities:\n",
    "    graph[city] = {}\n",
    "\n",
    "# Now, the graph dictionary contains all city names with empty dictionaries as values\n",
    "\n",
    "columns = data.columns\n",
    "table = data.values\n",
    "for i in range(0,len(table)):\n",
    "    # table[i][0] = city name\n",
    "    city_name = table[i][0]\n",
    "    # Now i want to turn each value into another dictionary with keys as the columns of the data data frame\n",
    "    # The value of the keys will be the distance between the two cities\n",
    "    for j in range(1, len(columns)):\n",
    "        # Get the city as columns[j]\n",
    "        neighbor_city = columns[j]\n",
    "\n",
    "        # Get the distance as table[i][j]\n",
    "        distance = table[i][j]\n",
    "\n",
    "        # Enter these two as key-value pair in the dictionary graph[city_name]\n",
    "        graph[city_name][neighbor_city] = float(distance)\n",
    "        graph[neighbor_city][city_name] = float(distance)\n",
    "        \n",
    "for city in cities:\n",
    "    if city in graph and city in graph[city]:\n",
    "        del graph[city][city]"
   ]
  },
  {
   "cell_type": "code",
   "execution_count": 34,
   "id": "727d003c",
   "metadata": {},
   "outputs": [
    {
     "name": "stdout",
     "output_type": "stream",
     "text": [
      "200.0\n"
     ]
    }
   ],
   "source": [
    "print(graph['Delhi']['Agra'])"
   ]
  },
  {
   "cell_type": "code",
   "execution_count": 5,
   "id": "a3b39e95",
   "metadata": {},
   "outputs": [
    {
     "data": {
      "text/plain": [
       "'\\nfor outer_key, inner_dict in graph.items():\\n    print(f\"Outer Key: {outer_key}\")\\n    \\n    for inner_key, value in inner_dict.items():\\n        print(f\"  Inner Key: {inner_key}, Value: {value}\")\\n'"
      ]
     },
     "execution_count": 5,
     "metadata": {},
     "output_type": "execute_result"
    }
   ],
   "source": [
    "# We can see the entire graph\n",
    "'''\n",
    "for outer_key, inner_dict in graph.items():\n",
    "    print(f\"Outer Key: {outer_key}\")\n",
    "    \n",
    "    for inner_key, value in inner_dict.items():\n",
    "        print(f\"  Inner Key: {inner_key}, Value: {value}\")\n",
    "'''"
   ]
  },
  {
   "cell_type": "code",
   "execution_count": 6,
   "id": "9ca1a079",
   "metadata": {},
   "outputs": [],
   "source": [
    "def relaxation(node, distances, parent):\n",
    "    # We find out all the neighbours of this node\n",
    "    for key,value in graph[node].items():\n",
    "        # For each neighbour we find out their distance to the start node\n",
    "        dist = distances[key]\n",
    "        edge_weight = value\n",
    "        dist_node = distances[node]\n",
    "        # If the distance of the neighbour to teh start node is greater than the distance between neighbour and node\n",
    "        if dist_node + edge_weight < dist:\n",
    "            distances[key] = dist_node + edge_weight\n",
    "            parent[key] = node\n",
    "        # Then we update the distance and the parent "
   ]
  },
  {
   "cell_type": "code",
   "execution_count": 40,
   "id": "38667795",
   "metadata": {},
   "outputs": [
    {
     "name": "stdout",
     "output_type": "stream",
     "text": [
      "1440.0\n",
      "Delhi\n",
      "Varanasi\n",
      "Calcutta\n"
     ]
    }
   ],
   "source": [
    "import queue\n",
    "from collections import deque\n",
    "\n",
    "# distances dictionary will have the min distance of all the cities to the start city.\n",
    "distances = {}\n",
    "parent = {}\n",
    "def dijkstra(start):\n",
    "    # We fill the dictionary of distances\n",
    "    global distances\n",
    "    distances = {}\n",
    "    for city in cities:\n",
    "        if city == start:\n",
    "            distances[city] = 0\n",
    "        else:\n",
    "            distances[city] = float('inf')\n",
    "    \n",
    "    # We fill the dictionary of parents.\n",
    "    global parent\n",
    "    parnet = {}\n",
    "    for city in cities:\n",
    "        parent[city] = 'NA'\n",
    "        \n",
    "    \n",
    "    frontier = queue.Queue()\n",
    "    reached = set()\n",
    "    \n",
    "    # Step 1 = Put start in the frontier\n",
    "    frontier.put(start)\n",
    "    # Step 2 = While frontier is not empty we start a while loop\n",
    "    while frontier.empty() == False:\n",
    "        # Step 3 = Perform relaxation for all the edges of the curr node\n",
    "        curr = frontier.get()\n",
    "        relaxation(curr,distances, parent)\n",
    "        # Step 4 = Put all the neighbours of the current node that have not been reached into the frontier\n",
    "        for item in graph[curr]:\n",
    "            if item not in reached:\n",
    "                frontier.put(item)\n",
    "            reached.add(curr)\n",
    "\n",
    "def get_Path(start, goal):\n",
    "    stack = deque()\n",
    "    curr = goal\n",
    "    while curr != start:\n",
    "        stack.append(curr)\n",
    "        curr = parent[curr]\n",
    "    stack.append(start)\n",
    "    while len(stack) > 0:\n",
    "        print(stack.pop())\n",
    "        \n",
    "start = 'Delhi'\n",
    "goal = 'Calcutta'\n",
    "dijkstra(start)\n",
    "print(distances[goal])\n",
    "get_Path(start,goal)"
   ]
  },
  {
   "cell_type": "code",
   "execution_count": 77,
   "id": "0d278871",
   "metadata": {},
   "outputs": [
    {
     "name": "stdout",
     "output_type": "stream",
     "text": [
      "The CSV file has been created and saved at coordinates.csv.\n",
      "[{'Cochin': 9.9312, 'Jabalpur': 23.1815, 'Vishakapatnam': 17.6868, 'Bombay': 19.076, 'Hyderabad': 17.385, 'Lucknow': 26.8467, 'Imphal': 24.817, 'Amritsar': 31.634, 'Bangalore': 12.9716, 'Indore': 22.7196, 'Madras': 13.0827, 'Pune': 18.5204, 'Shimla': 31.1048, 'Asansol': 23.676, 'Shillong': 25.576, 'Panjim': 15.4909, 'Gwalior': 26.2183, 'Kolhapur': 16.705, 'Varanasi': 25.3176, 'Baroda': 22.3072, 'Calcutta': 22.5726, 'Allahabad': 25.4358, 'Meerut': 28.6139, 'Nasik': 19.9975, 'Jaipur': 26.9124, 'Surat': 21.1702, 'Jamshedpur': 22.8046, 'Chandigarh': 30.7333, 'Calicut': 11.2588, 'Madurai': 9.9252, 'Hubli': 15.3647, 'Vijayawada': 16.5062, 'Ahmedabad': 23.0225, 'Ranchi': 23.3441, 'Bhopal': 23.2599, 'Bhubaneshwar': 20.2961, 'Delhi': 28.6139, 'Nagpur': 21.1458, 'Agra': 27.1767, 'Coimbatore': 11.0168, 'Kanpur': 26.4499, 'Trivandrum': 8.5241, 'Pondicherry': 11.9139, 'Ludhiana': 30.901, 'Agartala': 23.8315, 'Patna': 25.5941, 'Jullundur': 31.326}, {'Cochin': 76.2673, 'Jabalpur': 79.9864, 'Vishakapatnam': 83.2185, 'Bombay': 72.8777, 'Hyderabad': 78.4867, 'Lucknow': 80.9462, 'Imphal': 93.9368, 'Amritsar': 74.8723, 'Bangalore': 77.5946, 'Indore': 75.8577, 'Madras': 80.2707, 'Pune': 73.8567, 'Shimla': 77.1734, 'Asansol': 86.9784, 'Shillong': 91.882, 'Panjim': 73.8278, 'Gwalior': 78.1828, 'Kolhapur': 74.2433, 'Varanasi': 82.9739, 'Baroda': 73.1812, 'Calcutta': 88.3639, 'Allahabad': 81.8463, 'Meerut': 77.2828, 'Nasik': 73.7898, 'Jaipur': 75.7873, 'Surat': 72.8311, 'Jamshedpur': 86.2029, 'Chandigarh': 76.7794, 'Calicut': 75.7804, 'Madurai': 78.1198, 'Hubli': 75.124, 'Vijayawada': 80.648, 'Ahmedabad': 72.5714, 'Ranchi': 85.3096, 'Bhopal': 77.4126, 'Bhubaneshwar': 85.8245, 'Delhi': 77.209, 'Nagpur': 79.0882, 'Agra': 78.0081, 'Coimbatore': 76.9558, 'Kanpur': 80.3319, 'Trivandrum': 76.9366, 'Pondicherry': 79.8145, 'Ludhiana': 75.8573, 'Agartala': 91.2868, 'Patna': 85.1376, 'Jullundur': 75.5762}]\n"
     ]
    }
   ],
   "source": [
    "import csv\n",
    "city_coordinates = {\n",
    "    'Cochin': (9.9312, 76.2673),\n",
    "    'Jabalpur': (23.1815, 79.9864),\n",
    "    'Vishakapatnam': (17.6868, 83.2185),\n",
    "    'Bombay': (19.0760, 72.8777),\n",
    "    'Hyderabad': (17.3850, 78.4867),\n",
    "    'Lucknow': (26.8467, 80.9462),\n",
    "    'Imphal': (24.8170, 93.9368),\n",
    "    'Amritsar': (31.6340, 74.8723),\n",
    "    'Bangalore': (12.9716, 77.5946),\n",
    "    'Indore': (22.7196, 75.8577),\n",
    "    'Madras': (13.0827, 80.2707),\n",
    "    'Pune': (18.5204, 73.8567),\n",
    "    'Shimla': (31.1048, 77.1734),\n",
    "    'Asansol': (23.6760, 86.9784),\n",
    "    'Shillong': (25.5760, 91.8820),\n",
    "    'Panjim': (15.4909, 73.8278),\n",
    "    'Gwalior': (26.2183, 78.1828),\n",
    "    'Kolhapur': (16.7050, 74.2433),\n",
    "    'Varanasi': (25.3176, 82.9739),\n",
    "    'Baroda': (22.3072, 73.1812),\n",
    "    'Calcutta': (22.5726, 88.3639),\n",
    "    'Allahabad': (25.4358, 81.8463),\n",
    "    'Meerut': (28.6139, 77.2828),\n",
    "    'Nasik': (19.9975, 73.7898),\n",
    "    'Jaipur': (26.9124, 75.7873),\n",
    "    'Surat': (21.1702, 72.8311),\n",
    "    'Jamshedpur': (22.8046, 86.2029),\n",
    "    'Chandigarh': (30.7333, 76.7794),\n",
    "    'Calicut': (11.2588, 75.7804),\n",
    "    'Madurai': (9.9252, 78.1198),\n",
    "    'Hubli': (15.3647, 75.1240),\n",
    "    'Vijayawada': (16.5062, 80.6480),\n",
    "    'Ahmedabad': (23.0225, 72.5714),\n",
    "    'Ranchi': (23.3441, 85.3096),\n",
    "    'Bhopal': (23.2599, 77.4126),\n",
    "    'Bhubaneshwar': (20.2961, 85.8245),\n",
    "    'Delhi': (28.6139, 77.2090),\n",
    "    'Nagpur': (21.1458, 79.0882),\n",
    "    'Agra': (27.1767, 78.0081),\n",
    "    'Coimbatore': (11.0168, 76.9558),\n",
    "    'Kanpur': (26.4499, 80.3319),\n",
    "    'Trivandrum': (8.5241, 76.9366),\n",
    "    'Pondicherry': (11.9139, 79.8145),\n",
    "    'Ludhiana': (30.9010, 75.8573),\n",
    "    'Agartala': (23.8315, 91.2868),\n",
    "    'Patna': (25.5941, 85.1376),\n",
    "    'Jullundur': (31.3260, 75.5762),\n",
    "}\n",
    "csv_file_path = 'coordinates.csv'\n",
    "with open(csv_file_path, 'w', newline='') as csv_file:\n",
    "    writer = csv.DictWriter(csv_file, fieldnames=city_coordinates.keys())\n",
    "    \n",
    "    # Write the header\n",
    "    writer.writeheader()\n",
    "    \n",
    "    # Write the data\n",
    "    for i in range(len(city_coordinates['Cochin'])):\n",
    "        row = {key: city_coordinates[key][i] for key in city_coordinates.keys()}\n",
    "        writer.writerow(row)\n",
    "\n",
    "print(f'The CSV file has been created and saved at {csv_file_path}.')\n",
    "\n",
    "coordinates = pd.read_csv('coordinates.csv').to_dict(orient='records')\n",
    "print(coordinates)"
   ]
  },
  {
   "cell_type": "code",
   "execution_count": 59,
   "id": "52665588",
   "metadata": {},
   "outputs": [],
   "source": [
    "from haversine import haversine as haversine_formula\n",
    "\n",
    "def haversine(node, neighbour):\n",
    "    nc = city_coordinates[node]\n",
    "    nec = city_coordinates[neighbour]\n",
    "    ans = haversine_formula(nc, nec)\n",
    "    return ans"
   ]
  },
  {
   "cell_type": "code",
   "execution_count": 70,
   "id": "6938e5b7",
   "metadata": {},
   "outputs": [],
   "source": [
    "from scipy.spatial.distance import euclidean\n",
    "\n",
    "def euclidean_distance(node, neighbour):\n",
    "    # Calculate Euclidean distance\n",
    "    nc = city_coordinates[node]\n",
    "    nec = city_coordinates[neighbour]\n",
    "    ans = euclidean(nc, nec)\n",
    "    return ans"
   ]
  },
  {
   "cell_type": "code",
   "execution_count": 78,
   "id": "3e6fecfe",
   "metadata": {
    "scrolled": false
   },
   "outputs": [
    {
     "name": "stdout",
     "output_type": "stream",
     "text": [
      "Current city = Delhi at dist = 0. Min distance to goal = inf\n",
      "Current city = Meerut at dist = 73.3117059514179. Min distance to goal = 911.0\n",
      "Current city = Agra at dist = 206.8421549624369. Min distance to goal = 911.0\n",
      "Current city = Chandigarh at dist = 256.7842871446692. Min distance to goal = 911.0\n",
      "Current city = Jaipur at dist = 268.04711153235195. Min distance to goal = 911.0\n",
      "Current city = Ludhiana at dist = 318.53626973917767. Min distance to goal = 911.0\n",
      "Current city = Gwalior at dist = 321.457627087406. Min distance to goal = 911.0\n",
      "Current city = Shimla at dist = 356.30064391803063. Min distance to goal = 911.0\n",
      "Current city = Shimla at dist = 374.30064391803063. Min distance to goal = 911.0\n",
      "Current city = Jullundur at dist = 383.83045498771156. Min distance to goal = 911.0\n",
      "Current city = Amritsar at dist = 453.91358923554367. Min distance to goal = 911.0\n",
      "Current city = Kanpur at dist = 489.4836567003858. Min distance to goal = 911.0\n",
      "Current city = Lucknow at dist = 508.20661613623594. Min distance to goal = 911.0\n",
      "Current city = Allahabad at dist = 659.5837251056153. Min distance to goal = 911.0\n",
      "Current city = Indore at dist = 671.3002297041267. Min distance to goal = 911.0\n",
      "Current city = Bhopal at dist = 746.8470172477514. Min distance to goal = 911.0\n",
      "Current city = Varanasi at dist = 755.6526752630501. Min distance to goal = 911.0\n",
      "Current city = Indore at dist = 794.3002297041267. Min distance to goal = 911.0\n",
      "Current city = Jabalpur at dist = 807.416704524248. Min distance to goal = 911.0\n",
      "Current city = Indore at dist = 809.3002297041267. Min distance to goal = 911.0\n",
      "Current city = Ahmedabad at dist = 911.0. Min distance to goal = 911.0\n",
      "911.0\n"
     ]
    }
   ],
   "source": [
    "import queue\n",
    "g = {}\n",
    "def a_star_search(start,goal):\n",
    "    # the nodes i can visit\n",
    "    frontier = queue.PriorityQueue()\n",
    "    frontier.put((0,start))\n",
    "    \n",
    "    # The current distance of a node from teh starting node\n",
    "    global g\n",
    "    g = {} \n",
    "    g[start] = 0\n",
    "    for city in cities:\n",
    "        if city != start:\n",
    "            g[city] = float('inf')\n",
    "            \n",
    "    # What all nodes have i reached\n",
    "    reached = {}\n",
    "    \n",
    "    # parent node required while tracing back\n",
    "    parents = {}\n",
    "    parents[start] = start\n",
    "\n",
    "    # stores the heuristic distance from teh node to the goal node.\n",
    "    heuristic = {}\n",
    "    for city in cities:\n",
    "        heuristic[city] = euclidean_distance(city,goal)\n",
    "        \n",
    "    # minimum distance to the goal node\n",
    "    minimum_to_goal = float('inf')\n",
    "    \n",
    "    while frontier.empty() == False:\n",
    "        (f, city) = frontier.get()\n",
    "        if f <= minimum_to_goal:\n",
    "            print(f'Current city = {city} at dist = {f}. Min distance to goal = {minimum_to_goal}')\n",
    "            # we expand this node\n",
    "            for neighbour,distance in graph[city].items():\n",
    "                # if we can reach this neighbour in distance smaller than g[neighbour] then we update it\n",
    "                # print(f\"{neighbour} {distance}\")\n",
    "                if g[city] + distance < g[neighbour]:\n",
    "                    g[neighbour] = distance + g[city]\n",
    "                    if neighbour == goal:\n",
    "                        minimum_to_goal = min(minimum_to_goal,g[neighbour])\n",
    "                    frontier.put((g[neighbour]+heuristic[neighbour],neighbour))\n",
    "                reached[city] = f\n",
    "    \n",
    "start = 'Delhi'\n",
    "goal = 'Ahmedabad'\n",
    "a_star_search(start,goal)\n",
    "print(g[goal])"
   ]
  },
  {
   "cell_type": "code",
   "execution_count": null,
   "id": "32aa94b3",
   "metadata": {},
   "outputs": [],
   "source": []
  },
  {
   "cell_type": "code",
   "execution_count": null,
   "id": "86856544",
   "metadata": {},
   "outputs": [],
   "source": []
  },
  {
   "cell_type": "code",
   "execution_count": null,
   "id": "935e6f1d",
   "metadata": {},
   "outputs": [],
   "source": []
  }
 ],
 "metadata": {
  "kernelspec": {
   "display_name": "Python 3 (ipykernel)",
   "language": "python",
   "name": "python3"
  },
  "language_info": {
   "codemirror_mode": {
    "name": "ipython",
    "version": 3
   },
   "file_extension": ".py",
   "mimetype": "text/x-python",
   "name": "python",
   "nbconvert_exporter": "python",
   "pygments_lexer": "ipython3",
   "version": "3.11.4"
  }
 },
 "nbformat": 4,
 "nbformat_minor": 5
}
